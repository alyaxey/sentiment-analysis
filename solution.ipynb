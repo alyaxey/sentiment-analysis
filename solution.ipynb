{
 "cells": [
  {
   "cell_type": "code",
   "execution_count": 1,
   "metadata": {},
   "outputs": [],
   "source": [
    "# loading the dataset\n",
    "import pandas as pd\n",
    "import matplotlib\n",
    "import matplotlib.pyplot as plt\n",
    "\n",
    "df = pd.read_json('Microblog_Trainingdata.json.txt')"
   ]
  },
  {
   "cell_type": "code",
   "execution_count": 2,
   "metadata": {
    "scrolled": true
   },
   "outputs": [
    {
     "name": "stdout",
     "output_type": "stream",
     "text": [
      "1700\n"
     ]
    },
    {
     "data": {
      "text/html": [
       "<div>\n",
       "<style scoped>\n",
       "    .dataframe tbody tr th:only-of-type {\n",
       "        vertical-align: middle;\n",
       "    }\n",
       "\n",
       "    .dataframe tbody tr th {\n",
       "        vertical-align: top;\n",
       "    }\n",
       "\n",
       "    .dataframe thead th {\n",
       "        text-align: right;\n",
       "    }\n",
       "</style>\n",
       "<table border=\"1\" class=\"dataframe\">\n",
       "  <thead>\n",
       "    <tr style=\"text-align: right;\">\n",
       "      <th></th>\n",
       "      <th>source</th>\n",
       "      <th>cashtag</th>\n",
       "      <th>sentiment score</th>\n",
       "      <th>id</th>\n",
       "      <th>spans</th>\n",
       "    </tr>\n",
       "  </thead>\n",
       "  <tbody>\n",
       "    <tr>\n",
       "      <td>353</td>\n",
       "      <td>twitter</td>\n",
       "      <td><span class=\"tex2jax_ignore\">$</span>WYNN</td>\n",
       "      <td>0.489</td>\n",
       "      <td>709499794910109696</td>\n",
       "      <td>[buy <span class=\"tex2jax_ignore\">$</span>WYNN]</td>\n",
       "    </tr>\n",
       "    <tr>\n",
       "      <td>1014</td>\n",
       "      <td>twitter</td>\n",
       "      <td><span class=\"tex2jax_ignore\">$</span>DORM</td>\n",
       "      <td>0.414</td>\n",
       "      <td>719732320404709376</td>\n",
       "      <td>[TOP 5 STOCK PICKS]</td>\n",
       "    </tr>\n",
       "    <tr>\n",
       "      <td>215</td>\n",
       "      <td>stocktwits</td>\n",
       "      <td><span class=\"tex2jax_ignore\">$</span>DGAZ</td>\n",
       "      <td>0.331</td>\n",
       "      <td>29835080</td>\n",
       "      <td>[Looks like that support line around 24.90 held, t can close green it could start seeing some pstv momentum,]</td>\n",
       "    </tr>\n",
       "    <tr>\n",
       "      <td>560</td>\n",
       "      <td>twitter</td>\n",
       "      <td><span class=\"tex2jax_ignore\">$</span>HAR</td>\n",
       "      <td>0.454</td>\n",
       "      <td>708355634857529344</td>\n",
       "      <td>[Sector Stocks Leading Today]</td>\n",
       "    </tr>\n",
       "    <tr>\n",
       "      <td>80</td>\n",
       "      <td>stocktwits</td>\n",
       "      <td><span class=\"tex2jax_ignore\">$</span>FCX</td>\n",
       "      <td>0.339</td>\n",
       "      <td>5514207</td>\n",
       "      <td>[<span class=\"tex2jax_ignore\">$</span>FCX +3.53%]</td>\n",
       "    </tr>\n",
       "    <tr>\n",
       "      <td>770</td>\n",
       "      <td>twitter</td>\n",
       "      <td><span class=\"tex2jax_ignore\">$</span>CJES</td>\n",
       "      <td>-0.438</td>\n",
       "      <td>709834259687710720</td>\n",
       "      <td>[Biggest Market Losers]</td>\n",
       "    </tr>\n",
       "    <tr>\n",
       "      <td>23</td>\n",
       "      <td>stocktwits</td>\n",
       "      <td><span class=\"tex2jax_ignore\">$</span>CHK</td>\n",
       "      <td>0.279</td>\n",
       "      <td>5364581</td>\n",
       "      <td>[reserves are in decline]</td>\n",
       "    </tr>\n",
       "    <tr>\n",
       "      <td>1051</td>\n",
       "      <td>twitter</td>\n",
       "      <td><span class=\"tex2jax_ignore\">$</span>MAR</td>\n",
       "      <td>0.336</td>\n",
       "      <td>711907079296933888</td>\n",
       "      <td>[Unusual call buying]</td>\n",
       "    </tr>\n",
       "    <tr>\n",
       "      <td>1695</td>\n",
       "      <td>stocktwits</td>\n",
       "      <td><span class=\"tex2jax_ignore\">$</span>RIMM</td>\n",
       "      <td>-0.126</td>\n",
       "      <td>7442585</td>\n",
       "      <td>[So both call/put buyers are crushed]</td>\n",
       "    </tr>\n",
       "    <tr>\n",
       "      <td>1205</td>\n",
       "      <td>twitter</td>\n",
       "      <td><span class=\"tex2jax_ignore\">$</span>PYPL</td>\n",
       "      <td>-0.113</td>\n",
       "      <td>719542623279702016</td>\n",
       "      <td>[Barclays signs on to Apple Pay]</td>\n",
       "    </tr>\n",
       "  </tbody>\n",
       "</table>\n",
       "</div>"
      ],
      "text/plain": [
       "          source cashtag  sentiment score                  id  \\\n",
       "353      twitter   $WYNN            0.489  709499794910109696   \n",
       "1014     twitter   $DORM            0.414  719732320404709376   \n",
       "215   stocktwits   $DGAZ            0.331            29835080   \n",
       "560      twitter    $HAR            0.454  708355634857529344   \n",
       "80    stocktwits    $FCX            0.339             5514207   \n",
       "770      twitter   $CJES           -0.438  709834259687710720   \n",
       "23    stocktwits    $CHK            0.279             5364581   \n",
       "1051     twitter    $MAR            0.336  711907079296933888   \n",
       "1695  stocktwits   $RIMM           -0.126             7442585   \n",
       "1205     twitter   $PYPL           -0.113  719542623279702016   \n",
       "\n",
       "                                                                                                              spans  \n",
       "353                                                                                                     [buy $WYNN]  \n",
       "1014                                                                                            [TOP 5 STOCK PICKS]  \n",
       "215   [Looks like that support line around 24.90 held, t can close green it could start seeing some pstv momentum,]  \n",
       "560                                                                                   [Sector Stocks Leading Today]  \n",
       "80                                                                                                    [$FCX +3.53%]  \n",
       "770                                                                                         [Biggest Market Losers]  \n",
       "23                                                                                        [reserves are in decline]  \n",
       "1051                                                                                          [Unusual call buying]  \n",
       "1695                                                                          [So both call/put buyers are crushed]  \n",
       "1205                                                                               [Barclays signs on to Apple Pay]  "
      ]
     },
     "metadata": {},
     "output_type": "display_data"
    }
   ],
   "source": [
    "# printing dataset sample\n",
    "print(len(df))\n",
    "with pd.option_context('display.width', None, 'max_colwidth', 1000, 'max_rows', None):\n",
    "    display(df.sample(10, random_state=31434))"
   ]
  },
  {
   "cell_type": "code",
   "execution_count": 3,
   "metadata": {
    "scrolled": false
   },
   "outputs": [
    {
     "data": {
      "text/plain": [
       "stocktwits    934\n",
       "twitter       766\n",
       "Name: source, dtype: int64"
      ]
     },
     "execution_count": 3,
     "metadata": {},
     "output_type": "execute_result"
    }
   ],
   "source": [
    "# exploring source field values\n",
    "df.source.value_counts()"
   ]
  },
  {
   "cell_type": "code",
   "execution_count": 4,
   "metadata": {},
   "outputs": [
    {
     "data": {
      "text/plain": [
       "$AAPL    117\n",
       "$TSLA     80\n",
       "$FB       77\n",
       "$SPY      60\n",
       "$AMZN     30\n",
       "        ... \n",
       "$GG        1\n",
       "$WNR       1\n",
       "$MMM       1\n",
       "$HA        1\n",
       "$OSTK      1\n",
       "Name: cashtag, Length: 684, dtype: int64"
      ]
     },
     "execution_count": 4,
     "metadata": {},
     "output_type": "execute_result"
    }
   ],
   "source": [
    "# exploring cashtag field values\n",
    "df.cashtag.value_counts()"
   ]
  },
  {
   "cell_type": "code",
   "execution_count": 5,
   "metadata": {
    "scrolled": true
   },
   "outputs": [
    {
     "name": "stdout",
     "output_type": "stream",
     "text": [
      "0.1145229411764706\n"
     ]
    },
    {
     "data": {
      "text/plain": [
       "<matplotlib.axes._subplots.AxesSubplot at 0x7fea8bad2e10>"
      ]
     },
     "execution_count": 5,
     "metadata": {},
     "output_type": "execute_result"
    },
    {
     "data": {
      "image/png": "[encoded data removed]",
      "text/plain": [
       "<Figure size 432x288 with 1 Axes>"
      ]
     },
     "metadata": {
      "needs_background": "light"
     },
     "output_type": "display_data"
    }
   ],
   "source": [
    "# exploring sentiment score distribution\n",
    "# we see two clusters and bigger positive one\n",
    "print(df['sentiment score'].mean())\n",
    "df['sentiment score'].hist(bins=31)"
   ]
  },
  {
   "cell_type": "code",
   "execution_count": 6,
   "metadata": {},
   "outputs": [
    {
     "data": {
      "text/plain": [
       "39047349              13\n",
       "719535506980265984    11\n",
       "719520125582503936    10\n",
       "708355634857529344     9\n",
       "709834259687710720     8\n",
       "                      ..\n",
       "26057981               1\n",
       "719532953642999808     1\n",
       "9942259                1\n",
       "9694450                1\n",
       "12799689               1\n",
       "Name: id, Length: 1229, dtype: int64"
      ]
     },
     "execution_count": 6,
     "metadata": {},
     "output_type": "execute_result"
    }
   ],
   "source": [
    "# exploring id field values\n",
    "df.id.value_counts()"
   ]
  },
  {
   "cell_type": "code",
   "execution_count": 7,
   "metadata": {
    "scrolled": true
   },
   "outputs": [
    {
     "data": {
      "text/plain": [
       "1    1378\n",
       "2     272\n",
       "3      45\n",
       "4       4\n",
       "5       1\n",
       "Name: spans, dtype: int64"
      ]
     },
     "execution_count": 7,
     "metadata": {},
     "output_type": "execute_result"
    }
   ],
   "source": [
    "# exploring number of spans\n",
    "df.spans.str.len().value_counts()"
   ]
  },
  {
   "cell_type": "code",
   "execution_count": 8,
   "metadata": {},
   "outputs": [
    {
     "data": {
      "text/plain": [
       "<matplotlib.axes._subplots.AxesSubplot at 0x7fea891636a0>"
      ]
     },
     "execution_count": 8,
     "metadata": {},
     "output_type": "execute_result"
    },
    {
     "data": {
      "image/png": "[encoded data removed]",
      "text/plain": [
       "<Figure size 432x288 with 1 Axes>"
      ]
     },
     "metadata": {
      "needs_background": "light"
     },
     "output_type": "display_data"
    }
   ],
   "source": [
    "# exploring word counts - rather short texts\n",
    "df.spans.str.join(' ').str.split().str.len().value_counts(sort=False).plot.bar()"
   ]
  },
  {
   "cell_type": "code",
   "execution_count": 9,
   "metadata": {},
   "outputs": [
    {
     "data": {
      "text/plain": [
       "                                                                  20\n",
       "Stochastic Overbought                                             13\n",
       "Unusual Call Activity                                             12\n",
       "Nice day rally!                                                   11\n",
       "downgrade                                                         10\n",
       "                                                                  ..\n",
       "Took Small posistion on $TSLA                                      1\n",
       "wouldn't be surprised to see a green close                         1\n",
       "cash & cheap financing is fueling a wave of acquisitions           1\n",
       "bumping its head on declining daily 8ma as overhead resistance     1\n",
       "staying strong                                                     1\n",
       "Name: spans, Length: 1252, dtype: int64"
      ]
     },
     "execution_count": 9,
     "metadata": {},
     "output_type": "execute_result"
    }
   ],
   "source": [
    "# exploring frequent phrases, notice some empty and finincial slang\n",
    "df.spans.str.join(', ').value_counts()"
   ]
  },
  {
   "cell_type": "code",
   "execution_count": 10,
   "metadata": {},
   "outputs": [
    {
     "name": "stderr",
     "output_type": "stream",
     "text": [
      "[nltk_data] Downloading package stopwords to /home/ubuntu/nltk_data...\n",
      "[nltk_data]   Package stopwords is already up-to-date!\n",
      "[nltk_data] Downloading package punkt to /home/ubuntu/nltk_data...\n",
      "[nltk_data]   Package punkt is already up-to-date!\n"
     ]
    },
    {
     "data": {
      "text/plain": [
       "True"
      ]
     },
     "execution_count": 10,
     "metadata": {},
     "output_type": "execute_result"
    }
   ],
   "source": [
    "# part of installation - download needed nltk corpora\n",
    "import nltk\n",
    "\n",
    "\n",
    "nltk.download('stopwords')\n",
    "nltk.download('punkt')"
   ]
  },
  {
   "cell_type": "code",
   "execution_count": 11,
   "metadata": {},
   "outputs": [
    {
     "data": {
      "text/plain": [
       "[('stocks', 80),\n",
       " ('long', 73),\n",
       " ('buy', 70),\n",
       " ('short', 65),\n",
       " ('today', 51),\n",
       " ('good', 46),\n",
       " ('nice', 44),\n",
       " ('new', 44),\n",
       " ('looking', 43),\n",
       " ('still', 43),\n",
       " ('stock', 41),\n",
       " ('market', 37),\n",
       " ('day', 36),\n",
       " ('bullish', 35),\n",
       " ('top', 34),\n",
       " ('call', 32),\n",
       " ('like', 31),\n",
       " ('week', 28),\n",
       " ('looks', 27),\n",
       " ('trade', 26)]"
      ]
     },
     "execution_count": 11,
     "metadata": {},
     "output_type": "execute_result"
    }
   ],
   "source": [
    "# check out most common words, notice lot's of financial jargon\n",
    "from collections import Counter\n",
    "from nltk.corpus import stopwords\n",
    "\n",
    "\n",
    "stop_words = set(stopwords.words('english'))\n",
    "Counter((w\n",
    "         for w in ' '.join(df.spans.str.join(' ')).lower().split()\n",
    "         if w not in stop_words)\n",
    "       ).most_common()[:20]"
   ]
  },
  {
   "cell_type": "markdown",
   "metadata": {},
   "source": [
    "Found main paper about this dataset when googling tweets:  \n",
    "https://www.aclweb.org/anthology/S17-2089.pdf\n",
    "\n",
    "The table with top papers, some with code. Score is not directly comparable because we use cross-validation and they test on a separate dataset. Anyway it's good to stick with their metric. Ideas of Jiang, Ghosal and Cabanski were used in this work.\n",
    "\n",
    "|rank|score|author|paper|code|\n",
    "|-|-|-|-|-|\n",
    "|1|0.778|Jiang|https://www.aclweb.org/anthology/S17-2152.pdf ||\n",
    "|2|0.751|Ghosal|https://www.aclweb.org/anthology/S17-2154.pdf ||\n",
    "|3|0.735|Deborah| https://www.aclweb.org/anthology/S17-2139.pdf ||\n",
    "|4|0.730|Cabanski| https://www.aclweb.org/anthology/S17-2141.pdf | https://github.com/tocab/SemEval2017Task5\n",
    "|5|0.726|Kumar| https://www.aclweb.org/anthology/S17-2153.pdf ||\n",
    "|6|0.723|Kar| http://sudiptakar.info/wp-content/uploads/2018/02/semeval2017task5.pdf | https://github.com/cryptexcode/SemEval-2017-Task-5 |\n",
    "|7|0.720|Nasim| https://www.aclweb.org/anthology/S17-2140.pdf ||\n",
    "|8|0.707|Seyeditabari|https://www.aclweb.org/anthology/S17-2146.pdf ||\n",
    "|9|0.693|Saleiro| https://arxiv.org/pdf/1704.05091.pdf | https://github.com/saleiro/SemEval2017-Task5 |"
   ]
  },
  {
   "cell_type": "code",
   "execution_count": 12,
   "metadata": {},
   "outputs": [
    {
     "name": "stdout",
     "output_type": "stream",
     "text": [
      "loaded splits\n"
     ]
    }
   ],
   "source": [
    "# saving cross-validation splits for reproducible result\n",
    "# we split by id because unlikely we will see the same tweets in test dataset\n",
    "# this actually makes a couple percent difference with random split and some papers missed it\n",
    "\n",
    "from sklearn.model_selection import GroupKFold\n",
    "import pickle\n",
    "\n",
    "\n",
    "try:\n",
    "    with open('splits.pkl', 'rb') as f:\n",
    "        splits = pickle.load(f)\n",
    "    print('loaded splits')\n",
    "except:\n",
    "    split = GroupKFold(n_splits=5)\n",
    "    splits = list(split.split(df, groups=df.id))\n",
    "    with open('splits.pkl', 'wb') as f:\n",
    "        pickle.dump(splits, f, protocol=pickle.HIGHEST_PROTOCOL)\n",
    "    print('saved splits')"
   ]
  },
  {
   "cell_type": "code",
   "execution_count": 13,
   "metadata": {},
   "outputs": [],
   "source": [
    "# we consider both regression to compare to papers and classification as stated in this task\n",
    "# we predict continous y and consider y > 0 as positive and y <=0 as negative\n",
    "# accuracy - as usual\n",
    "# cosine - cosine distance from papers\n",
    "# binary_cosine - similarly to cosine but for classification and calibrated to have max=1 achiveable\n",
    "\n",
    "from sklearn.metrics import accuracy_score\n",
    "import scipy\n",
    "\n",
    "\n",
    "def main_metrics(y_true, y_pred):\n",
    "    return {\n",
    "        'accuracy': accuracy_score(y_true > 0, y_pred > 0),\n",
    "        'cosine': 1 - scipy.spatial.distance.cosine(y_true, y_pred),\n",
    "        'binary_cosine': np.dot(y_true, (y_pred > 0) * 2 - 1) / np.sum(np.abs(y_true)),\n",
    "    }"
   ]
  },
  {
   "cell_type": "code",
   "execution_count": 14,
   "metadata": {},
   "outputs": [],
   "source": [
    "# main function that does cross-validation and\n",
    "# calls solve function inside that accepts train and test dataframes\n",
    "from tqdm import tqdm_notebook as tqdm\n",
    "\n",
    "\n",
    "def cross_validate(solve):\n",
    "    metrics = []\n",
    "    for train_part, test_part in tqdm(splits, desc='fold'):\n",
    "        test_df = df.loc[test_part, [c for c in df.columns if c != 'sentiment score']]\n",
    "        preds = solve(df.loc[train_part], test_df)\n",
    "        metrics.append(main_metrics(df.loc[test_part, 'sentiment score'], preds))\n",
    "    metrics = pd.DataFrame({c: [m[c] for m in metrics] for c in metrics[0]})\n",
    "    metrics = metrics.apply(lambda x: pd.Series([x.mean(), x.std()])).T\n",
    "    metrics.columns = ['mean', 'std']\n",
    "    print(metrics)"
   ]
  },
  {
   "cell_type": "code",
   "execution_count": 15,
   "metadata": {
    "scrolled": true
   },
   "outputs": [
    {
     "data": {
      "application/vnd.jupyter.widget-view+json": {
       "model_id": "be579201266f4de28e3fc2bb7a7104f0",
       "version_major": 2,
       "version_minor": 0
      },
      "text/plain": [
       "HBox(children=(IntProgress(value=0, description='fold', max=5, style=ProgressStyle(description_width='initial'…"
      ]
     },
     "metadata": {},
     "output_type": "display_data"
    },
    {
     "name": "stdout",
     "output_type": "stream",
     "text": [
      "\n",
      "                   mean       std\n",
      "accuracy       0.497647  0.007323\n",
      "cosine        -0.000963  0.041210\n",
      "binary_cosine -0.007022  0.025829\n"
     ]
    }
   ],
   "source": [
    "# baseline solution with random numbers\n",
    "import numpy as np\n",
    "\n",
    "\n",
    "def solve_random(train_df, test_df):\n",
    "    rng = np.random.RandomState(35345)\n",
    "    return rng.uniform(-1, 1, len(test_df))\n",
    "\n",
    "\n",
    "cross_validate(solve_random)"
   ]
  },
  {
   "cell_type": "code",
   "execution_count": 16,
   "metadata": {},
   "outputs": [
    {
     "data": {
      "application/vnd.jupyter.widget-view+json": {
       "model_id": "73a4f335879d4f9686d5144192157e7c",
       "version_major": 2,
       "version_minor": 0
      },
      "text/plain": [
       "HBox(children=(IntProgress(value=0, description='fold', max=5, style=ProgressStyle(description_width='initial'…"
      ]
     },
     "metadata": {},
     "output_type": "display_data"
    },
    {
     "name": "stdout",
     "output_type": "stream",
     "text": [
      "\n",
      "                   mean       std\n",
      "accuracy       0.642353  0.028026\n",
      "cosine         0.288786  0.042107\n",
      "binary_cosine  0.314406  0.045549\n"
     ]
    }
   ],
   "source": [
    "# baseline solution with always positive class\n",
    "import numpy as np\n",
    "\n",
    "\n",
    "def solve_ones(train_df, test_df):\n",
    "    return np.ones(len(test_df))\n",
    "\n",
    "\n",
    "cross_validate(solve_ones)"
   ]
  },
  {
   "cell_type": "code",
   "execution_count": 17,
   "metadata": {},
   "outputs": [],
   "source": [
    "# function for downloading from google drive\n",
    "import gdown\n",
    "from pathlib import Path\n",
    "\n",
    "\n",
    "def gdownload(url, dest):\n",
    "    if Path(dest).exists():\n",
    "        print(f'file \"{dest}\" already exists, skipping download')\n",
    "    else:\n",
    "        print(f'downloading file \"{dest}\"')\n",
    "        gdown.download(url, dest, quiet=False)"
   ]
  },
  {
   "cell_type": "code",
   "execution_count": 18,
   "metadata": {},
   "outputs": [
    {
     "name": "stdout",
     "output_type": "stream",
     "text": [
      "file \"word2vec_twitter_model.bin\" already exists, skipping download\n"
     ]
    }
   ],
   "source": [
    "# word2vec model referenced in top 2 solution https://www.aclweb.org/anthology/S17-2154.pdf\n",
    "# trained on 400M tweets\n",
    "# downloading 4.5 GB\n",
    "\n",
    "gdownload('https://drive.google.com/uc?id=10B7cvx3xN7Ef_FxwIO8sigd1J1Ibe6Lu',\n",
    "          'word2vec_twitter_model.bin')"
   ]
  },
  {
   "cell_type": "code",
   "execution_count": 19,
   "metadata": {},
   "outputs": [],
   "source": [
    "# loading to python\n",
    "from gensim.models.keyedvectors import KeyedVectors\n",
    "\n",
    "word2vec_twitter = KeyedVectors.load_word2vec_format(\n",
    "    'word2vec_twitter_model.bin',\n",
    "    binary=True,\n",
    "    unicode_errors='ignore',\n",
    "    limit=1_000_000)"
   ]
  },
  {
   "cell_type": "code",
   "execution_count": 20,
   "metadata": {},
   "outputs": [
    {
     "name": "stderr",
     "output_type": "stream",
     "text": [
      "Using TensorFlow backend.\n"
     ]
    },
    {
     "data": {
      "application/vnd.jupyter.widget-view+json": {
       "model_id": "e2f75a02fc44402090df8ad2637ce5c1",
       "version_major": 2,
       "version_minor": 0
      },
      "text/plain": [
       "HBox(children=(IntProgress(value=0, description='fold', max=5, style=ProgressStyle(description_width='initial'…"
      ]
     },
     "metadata": {},
     "output_type": "display_data"
    },
    {
     "name": "stdout",
     "output_type": "stream",
     "text": [
      "WARNING:tensorflow:From /home/ubuntu/anaconda/envs/sentiment_analysis/lib/python3.6/site-packages/tensorflow_core/python/ops/resource_variable_ops.py:1630: calling BaseResourceVariable.__init__ (from tensorflow.python.ops.resource_variable_ops) with constraint is deprecated and will be removed in a future version.\n",
      "Instructions for updating:\n",
      "If using Keras pass *_constraint arguments to layers.\n",
      "WARNING:tensorflow:From /home/ubuntu/anaconda/envs/sentiment_analysis/lib/python3.6/site-packages/keras/backend/tensorflow_backend.py:422: The name tf.global_variables is deprecated. Please use tf.compat.v1.global_variables instead.\n",
      "\n",
      "Epoch 68/100\n"
     ]
    },
    {
     "name": "stdout",
     "output_type": "stream",
     "text": [
      "Epoch 12/100\n"
     ]
    },
    {
     "name": "stdout",
     "output_type": "stream",
     "text": [
      "Epoch 56/100\n"
     ]
    },
    {
     "name": "stdout",
     "output_type": "stream",
     "text": [
      "Epoch 100/100\n"
     ]
    },
    {
     "name": "stdout",
     "output_type": "stream",
     "text": [
      "\n",
      "                   mean       std\n",
      "accuracy       0.781176  0.024922\n",
      "cosine         0.622414  0.026397\n",
      "binary_cosine  0.640280  0.042294\n"
     ]
    }
   ],
   "source": [
    "# idea from top 2 solution https://www.aclweb.org/anthology/S17-2154.pdf\n",
    "# multilayer perceptron model (MLP) on average word2vec vector\n",
    "from keras.models import Sequential\n",
    "import keras\n",
    "from keras.layers import Dense, Dropout, LSTM, Embedding, Bidirectional\n",
    "from nltk.tokenize import word_tokenize\n",
    "\n",
    "\n",
    "# get vector for word if exists\n",
    "def word_vec_unk(word2vec, w, unk=None):\n",
    "    try:\n",
    "        return word2vec.word_vec(w)\n",
    "    except KeyError:\n",
    "        return unk\n",
    "\n",
    "\n",
    "# get average vector for each text\n",
    "def df_to_mean_w2v_no_unk(word2vec, df):\n",
    "    result = []\n",
    "    for t in df.spans:\n",
    "        t = word_tokenize(', '.join(t).lower())\n",
    "        t = [word_vec_unk(word2vec, w, None) for w in t]\n",
    "        t = [w for w in t if w is not None]\n",
    "        if len(t) == 0:\n",
    "            t = [np.ones(word2vec.vectors.shape[1])]\n",
    "        t = np.mean(t, axis=0)\n",
    "        result.append(t)\n",
    "    result = np.vstack(result)\n",
    "    return result\n",
    "\n",
    "\n",
    "# apply MLP\n",
    "def solve_w2v_mean_mlp(train_df, test_df):\n",
    "    model = Sequential()\n",
    "    model.add(Dropout(rate=0.15))\n",
    "    model.add(Dense(200, input_dim=400, activation='relu'))\n",
    "    model.add(Dropout(rate=0.15))\n",
    "    model.add(Dense(30, activation='relu'))\n",
    "    model.add(Dropout(rate=0.15))\n",
    "    model.add(Dense(1, activation='tanh'))\n",
    "\n",
    "    # model doesn't get trained with cosine_proximity as loss by some reason\n",
    "    optimizer = keras.optimizers.SGD(lr=0.01, decay=1e-6, momentum=0.9, nesterov=True)\n",
    "    model.compile(optimizer=optimizer, loss='mean_squared_error', metrics=['cosine_proximity'])\n",
    "\n",
    "    model.fit(x=df_to_mean_w2v_no_unk(word2vec_twitter, train_df),\n",
    "              y=train_df['sentiment score'].to_numpy(),\n",
    "              batch_size=64,\n",
    "              epochs=100)\n",
    "\n",
    "    y_pred = model.predict(df_to_mean_w2v_no_unk(word2vec_twitter, test_df))[:, 0]\n",
    "    keras.backend.clear_session()\n",
    "    return y_pred\n",
    "\n",
    "\n",
    "cross_validate(solve_w2v_mean_mlp)"
   ]
  },
  {
   "cell_type": "code",
   "execution_count": 21,
   "metadata": {
    "scrolled": true
   },
   "outputs": [
    {
     "data": {
      "application/vnd.jupyter.widget-view+json": {
       "model_id": "725c48c2b0464ba08361836306eb8c90",
       "version_major": 2,
       "version_minor": 0
      },
      "text/plain": [
       "HBox(children=(IntProgress(value=0, description='fold', max=5, style=ProgressStyle(description_width='initial'…"
      ]
     },
     "metadata": {},
     "output_type": "display_data"
    },
    {
     "name": "stdout",
     "output_type": "stream",
     "text": [
      "\n",
      "                   mean       std\n",
      "accuracy       0.780588  0.024835\n",
      "cosine         0.614873  0.014540\n",
      "binary_cosine  0.627713  0.045429\n"
     ]
    }
   ],
   "source": [
    "# similar to previous, SVR (support vector regressor) approach on average word2vec vector\n",
    "from sklearn.svm import SVR\n",
    "\n",
    "\n",
    "def solve_w2v_mean_svr(train_df, test_df):\n",
    "    model = SVR(C=1, gamma='scale')\n",
    "    model.fit(df_to_mean_w2v_no_unk(word2vec_twitter, train_df),\n",
    "              train_df['sentiment score'].to_numpy())\n",
    "\n",
    "    y_pred = model.predict(df_to_mean_w2v_no_unk(word2vec_twitter, test_df))\n",
    "    return y_pred\n",
    "\n",
    "\n",
    "cross_validate(solve_w2v_mean_svr)"
   ]
  },
  {
   "cell_type": "code",
   "execution_count": 22,
   "metadata": {
    "scrolled": true
   },
   "outputs": [
    {
     "data": {
      "application/vnd.jupyter.widget-view+json": {
       "model_id": "c2047468bf514b1d84f02a26e9b8824d",
       "version_major": 2,
       "version_minor": 0
      },
      "text/plain": [
       "HBox(children=(IntProgress(value=0, description='fold', max=5, style=ProgressStyle(description_width='initial'…"
      ]
     },
     "metadata": {},
     "output_type": "display_data"
    },
    {
     "name": "stdout",
     "output_type": "stream",
     "text": [
      "Epoch 27/50\n"
     ]
    },
    {
     "name": "stdout",
     "output_type": "stream",
     "text": [
      "Epoch 3/50\n"
     ]
    },
    {
     "name": "stdout",
     "output_type": "stream",
     "text": [
      "Epoch 29/50\n"
     ]
    },
    {
     "name": "stdout",
     "output_type": "stream",
     "text": [
      "\n",
      "                   mean       std\n",
      "accuracy       0.805294  0.024905\n",
      "cosine         0.676012  0.028783\n",
      "binary_cosine  0.681180  0.042269\n"
     ]
    }
   ],
   "source": [
    "# bidirectional LSTM with word2vec vectors sequence\n",
    "# idea from https://github.com/keras-team/keras/blob/master/examples/imdb_bidirectional_lstm.py\n",
    "# and https://www.aclweb.org/anthology/S17-2154.pdf\n",
    "\n",
    "\n",
    "import keras\n",
    "from keras.layers import Dense, Dropout, LSTM, Embedding, Bidirectional\n",
    "from itertools import cycle, repeat\n",
    "from keras.models import Sequential\n",
    "from nltk.tokenize import word_tokenize\n",
    "from collections import Counter\n",
    "import numpy as np\n",
    "from tensorflow.contrib.opt import AdamWOptimizer\n",
    "\n",
    "\n",
    "# form vector sequences for texts\n",
    "def df_to_emb_seq(word2vec, df):\n",
    "    result = []\n",
    "    for t in df.spans:\n",
    "        t = word_tokenize(', '.join(t).lower())\n",
    "        t = [word_vec_unk(word2vec, w, None) for w in t]\n",
    "        t = [w for w in t if w is not None]\n",
    "        t = t or [np.ones(word2vec.vectors.shape[1], np.float32)]\n",
    "        result.append(np.stack(t))\n",
    "    return result\n",
    "\n",
    "\n",
    "# helper forms minibatches with same length\n",
    "def group_by_len(xs, ys, batch_size):\n",
    "    groups = {}\n",
    "    for i, (x, y) in enumerate(zip(xs, ys if ys is not None else repeat(None))):\n",
    "        groups.setdefault(len(x), []).append((i, x, y))\n",
    "    data = []\n",
    "    inds = []\n",
    "    for g in groups.values():\n",
    "        for b in range(0, len(g), batch_size):\n",
    "            ind, x, y = [np.stack([a[i] for a in g[b: b + batch_size]]) for i in range(3)]\n",
    "            data.append((x, y))\n",
    "            inds.append(ind)\n",
    "    return data, inds\n",
    "\n",
    "\n",
    "# helper puts predictions for minibatches back to original array\n",
    "def preds_to_array(preds, inds):\n",
    "    result = np.zeros_like(preds)\n",
    "    result[np.concatenate(inds)] = preds\n",
    "    return result\n",
    "\n",
    "\n",
    "# apply bidirectional LSTM\n",
    "def solve_w2v_lstm(train_df, test_df):\n",
    "    model = Sequential()\n",
    "    model.add(Bidirectional(LSTM(64,\n",
    "                                 dropout=0.4,\n",
    "                                 recurrent_dropout=0.4,\n",
    "                                 return_sequences=True),\n",
    "                            input_shape=(None, word2vec_twitter.vectors.shape[1])))\n",
    "    model.add(Bidirectional(LSTM(64,\n",
    "                                 dropout=0.4,\n",
    "                                 recurrent_dropout=0.4)))\n",
    "    model.add(Dropout(0.4))\n",
    "    model.add(Dense(32, activation='relu'))\n",
    "    model.add(Dropout(0.4))\n",
    "    model.add(Dense(1, activation='tanh'))\n",
    "\n",
    "    optimizer = 'adam' \n",
    "    model.compile(optimizer=optimizer, loss='mean_squared_error', metrics=['cosine_proximity'])\n",
    "\n",
    "    data, indexes = group_by_len(df_to_emb_seq(word2vec_twitter, train_df),\n",
    "                                 train_df['sentiment score'], batch_size=32)\n",
    "    model.fit_generator(cycle(data), steps_per_epoch=len(data), epochs=50)\n",
    "\n",
    "    data, indexes = group_by_len(df_to_emb_seq(word2vec_twitter, test_df),\n",
    "                                 None, batch_size=32)\n",
    "    preds = model.predict_generator(iter(data), steps=len(data))\n",
    "    y_pred = preds_to_array(preds[:, 0], indexes)\n",
    "    keras.backend.clear_session()\n",
    "    return y_pred\n",
    "\n",
    "\n",
    "cross_validate(solve_w2v_lstm)"
   ]
  },
  {
   "cell_type": "code",
   "execution_count": 23,
   "metadata": {},
   "outputs": [
    {
     "data": {
      "application/vnd.jupyter.widget-view+json": {
       "model_id": "272978df6acb4ac2bedff3989ba9df43",
       "version_major": 2,
       "version_minor": 0
      },
      "text/plain": [
       "HBox(children=(IntProgress(value=0, description='fold', max=5, style=ProgressStyle(description_width='initial'…"
      ]
     },
     "metadata": {},
     "output_type": "display_data"
    },
    {
     "name": "stderr",
     "output_type": "stream",
     "text": [
      "/home/ubuntu/anaconda/envs/sentiment_analysis/lib/python3.6/site-packages/xgboost/core.py:587: FutureWarning: Series.base is deprecated and will be removed in a future version\n",
      "  if getattr(data, 'base', None) is not None and \\\n",
      "/home/ubuntu/anaconda/envs/sentiment_analysis/lib/python3.6/site-packages/xgboost/core.py:588: FutureWarning: Series.base is deprecated and will be removed in a future version\n",
      "  data.base is not None and isinstance(data, np.ndarray) \\\n",
      "/home/ubuntu/anaconda/envs/sentiment_analysis/lib/python3.6/site-packages/xgboost/core.py:587: FutureWarning: Series.base is deprecated and will be removed in a future version\n",
      "  if getattr(data, 'base', None) is not None and \\\n",
      "/home/ubuntu/anaconda/envs/sentiment_analysis/lib/python3.6/site-packages/xgboost/core.py:588: FutureWarning: Series.base is deprecated and will be removed in a future version\n",
      "  data.base is not None and isinstance(data, np.ndarray) \\\n",
      "/home/ubuntu/anaconda/envs/sentiment_analysis/lib/python3.6/site-packages/xgboost/core.py:587: FutureWarning: Series.base is deprecated and will be removed in a future version\n",
      "  if getattr(data, 'base', None) is not None and \\\n",
      "/home/ubuntu/anaconda/envs/sentiment_analysis/lib/python3.6/site-packages/xgboost/core.py:588: FutureWarning: Series.base is deprecated and will be removed in a future version\n",
      "  data.base is not None and isinstance(data, np.ndarray) \\\n",
      "/home/ubuntu/anaconda/envs/sentiment_analysis/lib/python3.6/site-packages/xgboost/core.py:587: FutureWarning: Series.base is deprecated and will be removed in a future version\n",
      "  if getattr(data, 'base', None) is not None and \\\n",
      "/home/ubuntu/anaconda/envs/sentiment_analysis/lib/python3.6/site-packages/xgboost/core.py:588: FutureWarning: Series.base is deprecated and will be removed in a future version\n",
      "  data.base is not None and isinstance(data, np.ndarray) \\\n",
      "/home/ubuntu/anaconda/envs/sentiment_analysis/lib/python3.6/site-packages/xgboost/core.py:587: FutureWarning: Series.base is deprecated and will be removed in a future version\n",
      "  if getattr(data, 'base', None) is not None and \\\n",
      "/home/ubuntu/anaconda/envs/sentiment_analysis/lib/python3.6/site-packages/xgboost/core.py:588: FutureWarning: Series.base is deprecated and will be removed in a future version\n",
      "  data.base is not None and isinstance(data, np.ndarray) \\\n"
     ]
    },
    {
     "name": "stdout",
     "output_type": "stream",
     "text": [
      "\n",
      "                   mean       std\n",
      "accuracy       0.785882  0.023658\n",
      "cosine         0.634629  0.030884\n",
      "binary_cosine  0.658503  0.037476\n"
     ]
    }
   ],
   "source": [
    "# idea from https://www.aclweb.org/anthology/S17-2154.pdf\n",
    "# character ngrams (1-4)\n",
    "# word ngrams (1-4)\n",
    "# gradient boosted regressor on top\n",
    "\n",
    "\n",
    "from sklearn.pipeline import Pipeline, FeatureUnion\n",
    "from sklearn.feature_extraction.text import TfidfVectorizer, CountVectorizer\n",
    "from sklearn.linear_model import LinearRegression\n",
    "from sklearn.preprocessing import FunctionTransformer\n",
    "from xgboost import XGBRegressor\n",
    "import numpy as np\n",
    "import scipy as sc\n",
    "\n",
    "\n",
    "# join spans for all texts\n",
    "def get_df_text(df):\n",
    "    return df.spans.str.join(', ')\n",
    "\n",
    "\n",
    "# apply pipeline of word n-grams, character n-grams and XGBRegressor\n",
    "def solve_ngrams_xgb(train_df, test_df):\n",
    "    model = Pipeline([\n",
    "        ('get_text', FunctionTransformer(get_df_text, validate=False)),\n",
    "        ('tfidf', FeatureUnion([\n",
    "            ('word', CountVectorizer(ngram_range=(1, 4), min_df=3, binary=True)),\n",
    "            ('char', CountVectorizer(ngram_range=(1, 4), analyzer='char', min_df=3, max_df=0.1, binary=True))])),\n",
    "        ('xgbr', XGBRegressor(objective='reg:squarederror')),\n",
    "    ])\n",
    "\n",
    "    model.fit(train_df, train_df['sentiment score'])\n",
    "    return model.predict(test_df)\n",
    "\n",
    "cross_validate(solve_ngrams_xgb)"
   ]
  },
  {
   "cell_type": "code",
   "execution_count": 24,
   "metadata": {},
   "outputs": [],
   "source": [
    "# all lexicons from https://www.aclweb.org/anthology/S17-2141.pdf\n",
    "# this cell - SentiWordNet (Baccianella et al., 2010)\n",
    "# https://github.com/aesuli/SentiWordNet/blob/master/data/SentiWordNet_3.0.0.txt\n",
    "# create dictionary with mean score for stem of each word\n",
    "\n",
    "from nltk.stem.snowball import EnglishStemmer\n",
    "\n",
    "\n",
    "stem = EnglishStemmer().stem\n",
    "columns = [\"POS\", \"ID\", \"PosScore\", \"NegScore\", \"SynsetTerms\", \"Gloss\"]\n",
    "senti_wordnet_df = pd.read_table('SentiWordNet_3.0.0.txt', names=columns, skiprows=27).iloc[:-1]\n",
    "senti_wordnet = {}\n",
    "for t in senti_wordnet_df.itertuples():\n",
    "    for w in t.SynsetTerms.split():\n",
    "        w = w.partition('#')[0]\n",
    "        senti_wordnet.setdefault(stem(w), []).append(t.PosScore - t.NegScore)\n",
    "\n",
    "senti_wordnet = {k: [np.mean(v)] for k, v in senti_wordnet.items()}"
   ]
  },
  {
   "cell_type": "code",
   "execution_count": 25,
   "metadata": {},
   "outputs": [],
   "source": [
    "# Opinion Lexicon (Hu and Liu, 2004)\n",
    "# https://github.com/woodrad/Twitter-Sentiment-Mining/tree/master/Hu%20and%20Liu%20Sentiment%20Lexicon\n",
    "# create dictionary with mean score for stem of each word\n",
    "\n",
    "stem = EnglishStemmer().stem\n",
    "opinion_lexicon = {}\n",
    "for filename, sentiment in [('positive-words.txt', 1), ('negative-words.txt', -1)]:\n",
    "    with open(filename, 'r', encoding='latin1') as f:\n",
    "        for l in f:\n",
    "            l = l.partition(';')[0].strip()\n",
    "            if l:\n",
    "                opinion_lexicon.setdefault(stem(l), []).append(sentiment)\n",
    "opinion_lexicon = {k: [np.mean(v)] for k, v in opinion_lexicon.items()}"
   ]
  },
  {
   "cell_type": "code",
   "execution_count": 26,
   "metadata": {},
   "outputs": [],
   "source": [
    "# MaxDiff Twitter Sentiment Lexicon (Kiritchenko et al., 2014)\n",
    "# https://www.svkir.com/resources.html#manual_lexicons_BWS\n",
    "# create dictionary with mean score for stem of each word\n",
    "\n",
    "stem = EnglishStemmer().stem\n",
    "maxdiff_df = pd.read_csv(\n",
    "    'SemEval2015-English-Twitter-Lexicon.txt',\n",
    "    sep='\\t',\n",
    "    header=None,\n",
    "    names=[\"score\", \"word\"])\n",
    "\n",
    "maxdiff_lexicon = {}\n",
    "for t in maxdiff_df.itertuples():\n",
    "    w = stem(t.word.strip('#'))\n",
    "    maxdiff_lexicon.setdefault(w, []).append(t.score)\n",
    "\n",
    "maxdiff_lexicon = {k: [np.mean(v)] for k, v in maxdiff_lexicon.items()}"
   ]
  },
  {
   "cell_type": "code",
   "execution_count": 27,
   "metadata": {
    "scrolled": true
   },
   "outputs": [
    {
     "data": {
      "application/vnd.jupyter.widget-view+json": {
       "model_id": "c9db9d9d4be74e8a85aa875d7da0f3c6",
       "version_major": 2,
       "version_minor": 0
      },
      "text/plain": [
       "HBox(children=(IntProgress(value=0, description='fold', max=5, style=ProgressStyle(description_width='initial'…"
      ]
     },
     "metadata": {},
     "output_type": "display_data"
    },
    {
     "name": "stdout",
     "output_type": "stream",
     "text": [
      "\n",
      "                   mean       std\n",
      "accuracy       0.746471  0.031085\n",
      "cosine         0.556840  0.039262\n",
      "binary_cosine  0.567239  0.076657\n"
     ]
    }
   ],
   "source": [
    "# model using various lexicons and XGBRegressor\n",
    "\n",
    "from nltk.tokenize import word_tokenize\n",
    "from sklearn.linear_model import LinearRegression\n",
    "from sklearn.svm import SVR\n",
    "from nltk.stem.snowball import EnglishStemmer\n",
    "from vaderSentiment.vaderSentiment import SentimentIntensityAnalyzer\n",
    "from textblob import TextBlob\n",
    "from sklearn.ensemble import RandomForestRegressor\n",
    "\n",
    "\n",
    "# get average score for sentence using lexicon dictionary\n",
    "def vocab_score(t, vocab):\n",
    "    t = [vocab.get(w) for w in t]\n",
    "    t = [w for w in t if w is not None]\n",
    "    if len(t) == 0:\n",
    "        t = [np.zeros_like(next(iter(vocab.values())))]\n",
    "    t = np.mean(t, axis=0)\n",
    "    return t\n",
    "\n",
    "\n",
    "# gather all lexicon features for texts\n",
    "def lexicon_features(df):\n",
    "    analyser = SentimentIntensityAnalyzer()\n",
    "    features = []\n",
    "    zeros = np.zeros_like(next(iter(senti_wordnet.values())))\n",
    "    for t in df.spans:\n",
    "        t = ', '.join(t)\n",
    "\n",
    "        # VADER lexicon (Hutto and Gilbert, 2014)\n",
    "        # https://pypi.org/project/vaderSentiment/\n",
    "        vader_scores = analyser.polarity_scores(t)\n",
    "        vader_scores = [vader_scores[k] for k in ['neg', 'neu', 'pos', 'compound']]\n",
    "\n",
    "        # python library for sentiment analysis\n",
    "        # https://textblob.readthedocs.io/en/dev/\n",
    "        textblob_scores = TextBlob(t).sentiment\n",
    "        textblob_scores = [textblob_scores.polarity, textblob_scores.subjectivity]\n",
    "\n",
    "        t = word_tokenize(t.lower())\n",
    "        t = [stem(w) for w in t]\n",
    "        features.append(np.concatenate([\n",
    "            vocab_score(t, senti_wordnet),\n",
    "            vocab_score(t, opinion_lexicon),\n",
    "            vocab_score(t, maxdiff_lexicon),\n",
    "            vader_scores,\n",
    "            textblob_scores]))\n",
    "    return np.stack(features)\n",
    "\n",
    "\n",
    "# join feature extraction and XGBRegressor\n",
    "def solve_lexicons(train_df, test_df):\n",
    "    model = Pipeline([\n",
    "        ('get_text', FunctionTransformer(lexicon_features, validate=False)),\n",
    "        ('xgbr', XGBRegressor(objective='reg:squarederror')),\n",
    "    ])\n",
    "    model.fit(train_df, train_df['sentiment score'])\n",
    "    return model.predict(test_df)\n",
    "\n",
    "\n",
    "cross_validate(solve_lexicons)"
   ]
  },
  {
   "cell_type": "code",
   "execution_count": 46,
   "metadata": {},
   "outputs": [
    {
     "data": {
      "application/vnd.jupyter.widget-view+json": {
       "model_id": "fa5fc8ea0d814425b5742aee333aaead",
       "version_major": 2,
       "version_minor": 0
      },
      "text/plain": [
       "HBox(children=(IntProgress(value=0, description='fold', max=5, style=ProgressStyle(description_width='initial'…"
      ]
     },
     "metadata": {},
     "output_type": "display_data"
    },
    {
     "data": {
      "application/vnd.jupyter.widget-view+json": {
       "model_id": "d5598d0df00f46cc8bc29c30b427bdb9",
       "version_major": 2,
       "version_minor": 0
      },
      "text/plain": [
       "HBox(children=(IntProgress(value=0, description='models', max=5, style=ProgressStyle(description_width='initia…"
      ]
     },
     "metadata": {},
     "output_type": "display_data"
    },
    {
     "name": "stdout",
     "output_type": "stream",
     "text": [
      "Epoch 47/50\n"
     ]
    },
    {
     "name": "stdout",
     "output_type": "stream",
     "text": [
      "58/58 [==============================] - 1s 12ms/step - loss: 0.0366 - cosine_proximity: 0.8104\n"
     ]
    },
    {
     "name": "stderr",
     "output_type": "stream",
     "text": [
      "/home/ubuntu/anaconda/envs/sentiment_analysis/lib/python3.6/site-packages/xgboost/core.py:587: FutureWarning: Series.base is deprecated and will be removed in a future version\n",
      "  if getattr(data, 'base', None) is not None and \\\n",
      "/home/ubuntu/anaconda/envs/sentiment_analysis/lib/python3.6/site-packages/xgboost/core.py:588: FutureWarning: Series.base is deprecated and will be removed in a future version\n",
      "  data.base is not None and isinstance(data, np.ndarray) \\\n"
     ]
    },
    {
     "name": "stdout",
     "output_type": "stream",
     "text": [
      "\n"
     ]
    },
    {
     "data": {
      "application/vnd.jupyter.widget-view+json": {
       "model_id": "6c186660c57740dcb25b85763a8e3ad6",
       "version_major": 2,
       "version_minor": 0
      },
      "text/plain": [
       "HBox(children=(IntProgress(value=0, description='models', max=5, style=ProgressStyle(description_width='initia…"
      ]
     },
     "metadata": {},
     "output_type": "display_data"
    },
    {
     "name": "stdout",
     "output_type": "stream",
     "text": [
      "Epoch 47/50\n"
     ]
    },
    {
     "name": "stdout",
     "output_type": "stream",
     "text": [
      "56/56 [==============================] - 1s 12ms/step - loss: 0.0332 - cosine_proximity: 0.8398\n"
     ]
    },
    {
     "name": "stderr",
     "output_type": "stream",
     "text": [
      "/home/ubuntu/anaconda/envs/sentiment_analysis/lib/python3.6/site-packages/xgboost/core.py:587: FutureWarning: Series.base is deprecated and will be removed in a future version\n",
      "  if getattr(data, 'base', None) is not None and \\\n",
      "/home/ubuntu/anaconda/envs/sentiment_analysis/lib/python3.6/site-packages/xgboost/core.py:588: FutureWarning: Series.base is deprecated and will be removed in a future version\n",
      "  data.base is not None and isinstance(data, np.ndarray) \\\n"
     ]
    },
    {
     "name": "stdout",
     "output_type": "stream",
     "text": [
      "\n"
     ]
    },
    {
     "data": {
      "application/vnd.jupyter.widget-view+json": {
       "model_id": "48359801ff3b447abc19ee6cbf16d001",
       "version_major": 2,
       "version_minor": 0
      },
      "text/plain": [
       "HBox(children=(IntProgress(value=0, description='models', max=5, style=ProgressStyle(description_width='initia…"
      ]
     },
     "metadata": {},
     "output_type": "display_data"
    },
    {
     "name": "stdout",
     "output_type": "stream",
     "text": [
      "Epoch 47/50\n"
     ]
    },
    {
     "name": "stdout",
     "output_type": "stream",
     "text": [
      "57/57 [==============================] - 1s 12ms/step - loss: 0.0299 - cosine_proximity: 0.8514\n"
     ]
    },
    {
     "name": "stderr",
     "output_type": "stream",
     "text": [
      "/home/ubuntu/anaconda/envs/sentiment_analysis/lib/python3.6/site-packages/xgboost/core.py:587: FutureWarning: Series.base is deprecated and will be removed in a future version\n",
      "  if getattr(data, 'base', None) is not None and \\\n",
      "/home/ubuntu/anaconda/envs/sentiment_analysis/lib/python3.6/site-packages/xgboost/core.py:588: FutureWarning: Series.base is deprecated and will be removed in a future version\n",
      "  data.base is not None and isinstance(data, np.ndarray) \\\n"
     ]
    },
    {
     "name": "stdout",
     "output_type": "stream",
     "text": [
      "\n"
     ]
    },
    {
     "data": {
      "application/vnd.jupyter.widget-view+json": {
       "model_id": "cad1bba5b96842fabbe5976058d00762",
       "version_major": 2,
       "version_minor": 0
      },
      "text/plain": [
       "HBox(children=(IntProgress(value=0, description='models', max=5, style=ProgressStyle(description_width='initia…"
      ]
     },
     "metadata": {},
     "output_type": "display_data"
    },
    {
     "name": "stdout",
     "output_type": "stream",
     "text": [
      "Epoch 47/50\n"
     ]
    },
    {
     "name": "stdout",
     "output_type": "stream",
     "text": [
      "57/57 [==============================] - 1s 12ms/step - loss: 0.0357 - cosine_proximity: 0.8104\n"
     ]
    },
    {
     "name": "stderr",
     "output_type": "stream",
     "text": [
      "/home/ubuntu/anaconda/envs/sentiment_analysis/lib/python3.6/site-packages/xgboost/core.py:587: FutureWarning: Series.base is deprecated and will be removed in a future version\n",
      "  if getattr(data, 'base', None) is not None and \\\n",
      "/home/ubuntu/anaconda/envs/sentiment_analysis/lib/python3.6/site-packages/xgboost/core.py:588: FutureWarning: Series.base is deprecated and will be removed in a future version\n",
      "  data.base is not None and isinstance(data, np.ndarray) \\\n"
     ]
    },
    {
     "name": "stdout",
     "output_type": "stream",
     "text": [
      "\n"
     ]
    },
    {
     "data": {
      "application/vnd.jupyter.widget-view+json": {
       "model_id": "e7091c5b507a4007866cf2a1371b2794",
       "version_major": 2,
       "version_minor": 0
      },
      "text/plain": [
       "HBox(children=(IntProgress(value=0, description='models', max=5, style=ProgressStyle(description_width='initia…"
      ]
     },
     "metadata": {},
     "output_type": "display_data"
    },
    {
     "name": "stdout",
     "output_type": "stream",
     "text": [
      "Epoch 47/50\n"
     ]
    },
    {
     "name": "stdout",
     "output_type": "stream",
     "text": [
      "57/57 [==============================] - 1s 12ms/step - loss: 0.0347 - cosine_proximity: 0.8080\n"
     ]
    },
    {
     "name": "stderr",
     "output_type": "stream",
     "text": [
      "/home/ubuntu/anaconda/envs/sentiment_analysis/lib/python3.6/site-packages/xgboost/core.py:587: FutureWarning: Series.base is deprecated and will be removed in a future version\n",
      "  if getattr(data, 'base', None) is not None and \\\n",
      "/home/ubuntu/anaconda/envs/sentiment_analysis/lib/python3.6/site-packages/xgboost/core.py:588: FutureWarning: Series.base is deprecated and will be removed in a future version\n",
      "  data.base is not None and isinstance(data, np.ndarray) \\\n"
     ]
    },
    {
     "name": "stdout",
     "output_type": "stream",
     "text": [
      "\n",
      "\n",
      "                   mean       std\n",
      "accuracy       0.832353  0.013638\n",
      "cosine         0.715388  0.021528\n",
      "binary_cosine  0.741198  0.019587\n"
     ]
    }
   ],
   "source": [
    "# Ensemble model - blending\n",
    "# All 5 models are trained on 95% of train data and then predict for 5%\n",
    "# Linear regression is trained on top on these 5% of predictions\n",
    "# Then linear regression and all models outputs are used to predict on test dataset\n",
    "\n",
    "from sklearn.linear_model import LinearRegression\n",
    "\n",
    "\n",
    "def solve_ensemble_linreg(train_df, test_df):\n",
    "    models = [solve_w2v_mean_mlp, solve_w2v_mean_svr, solve_w2v_lstm, solve_ngrams_xgb, solve_lexicons]\n",
    "    train_df = train_df.sample(frac=1, random_state=34324)\n",
    "    train_part = int(len(train_df) * 0.95)\n",
    "    for_pred = pd.concat([train_df[test_df.columns], test_df])\n",
    "    preds = [m(train_df.iloc[:train_part], for_pred) for m in tqdm(models, desc='models')]\n",
    "    preds = np.stack(preds).T\n",
    "    top_model = LinearRegression()\n",
    "    top_model.fit(preds[train_part:len(train_df)], train_df['sentiment score'].iloc[train_part:len(train_df)])\n",
    "    preds = top_model.predict(preds[len(train_df):])\n",
    "    return preds\n",
    "\n",
    "\n",
    "cross_validate(solve_ensemble_linreg)"
   ]
  },
  {
   "cell_type": "markdown",
   "metadata": {},
   "source": [
    "# Results\n",
    "\n",
    "\\*Note that results cannot be directly compared to paper because we use cross-validation instead of a separate test dataset. And so our results should be higher.\n",
    "\n",
    "|rank|model|accuracy|cosine|binary_cosine|\n",
    "|-|-|-|-|-|\n",
    "|1|Jiang|  |0.778||\n",
    "|...|...|...|...|...|\n",
    "|7|Nasim|  |0.720||\n",
    "|**8**\\*|**ensemble**|**0.832**|**0.715**|**0.741**|\n",
    "||w2v_lstm|0.805|0.676|0.681|\n",
    "||ngrams_xgb|0.786|0.635|0.659|\n",
    "||mean_mlp|0.781|0.622|0.640|\n",
    "||mean_svr|0.781|0.615|0.628|\n",
    "||lexicons|0.746|0.557|0.567|"
   ]
  },
  {
   "cell_type": "markdown",
   "metadata": {},
   "source": [
    "## Future work\n",
    "\n",
    " - FastText vectors give +1% to metric, but they occupy 15 GB memory, so they are not used in the final version. See <https://github.com/FredericGodin/TwitterEmbeddings>. We can also experiment with other embeddings as it makes sense for such small datasets.\n",
    " - More lexicons could be added. There are more examples in top-1 paper.\n",
    " - More ensembling could be done.\n",
    " - Handcrafted features could be added like amount of all-caps words or hashtags in text.\n",
    " - Cashtags and source fields could be used though they didn't show a big difference. Perhaps it's related to the way dataset is annotated.\n",
    " - More modern neural network architectures could be used like BERT.\n",
    " - Transfer learning from top sentiment analysis neural network architectures could be used.\n",
    " - Inverviewing a financial expert may be useful to obtain non-trivial features."
   ]
  }
 ],
 "metadata": {
  "kernelspec": {
   "display_name": "Python 3",
   "language": "python",
   "name": "python3"
  },
  "language_info": {
   "codemirror_mode": {
    "name": "ipython",
    "version": 3
   },
   "file_extension": ".py",
   "mimetype": "text/x-python",
   "name": "python",
   "nbconvert_exporter": "python",
   "pygments_lexer": "ipython3",
   "version": "3.6.9"
  }
 },
 "nbformat": 4,
 "nbformat_minor": 2
}
